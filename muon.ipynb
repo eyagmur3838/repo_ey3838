{
 "cells": [
  {
   "cell_type": "code",
   "execution_count": 3,
   "metadata": {},
   "outputs": [],
   "source": [
    "import pandas as pd\n",
    "import scanpy as sc\n",
    "import anndata\n",
    "import numpy as np\n",
    "\n",
    "# Load datasets\n",
    "datasets = []\n",
    "for path in [\n",
    "    'brain/TMT/MSBB_clinical_TMT_1.csv',\n",
    "    'brain/TMT/Rosmapr1_clinical_TMT.csv',\n",
    "    'brain/TMT/Rosmapr2_clinical_TMT_1.csv',\n",
    "    'brain/TMT/RosmapBA637_clinical_TMT_1.csv',\n",
    "    'brain/TMT/EmoryBA9_clinical_TMT_1.csv',\n",
    "    'brain/TMT/EmoryBA24_clinical_TMT_1.csv',\n",
    "]:\n",
    "    df = pd.read_csv(path)\n",
    "    \n",
    "    df.rename(columns={'batch.channel': 'ID'}, inplace=True)\n",
    "\n",
    "    df.set_index('ID', inplace=True)\n",
    "    datasets.append(df)\n",
    "\n",
    "# Drop certain columns from each dataset\n",
    "columns_to_select = ['age', 'sex','Abeta42','tTau','pTau']  # Replace with actual column names to select\n",
    "for df in datasets:\n",
    "    df[columns_to_select] = df[columns_to_select].apply(pd.to_numeric, errors='coerce')\n",
    "datasets = [df[columns_to_select] for df in datasets]\n",
    "\n",
    "# Concatenate datasets\n",
    "concatenated_df = pd.concat(datasets, axis=0)\n",
    "\n",
    "# Add metadata to AnnData object\n",
    "adata = sc.AnnData(X=concatenated_df.values)\n",
    "adata.obs = concatenated_df\n",
    "\n",
    "\n",
    "\n"
   ]
  },
  {
   "cell_type": "code",
   "execution_count": 4,
   "metadata": {},
   "outputs": [
    {
     "name": "stdout",
     "output_type": "stream",
     "text": [
      "                    age  sex        pmi disease_group  batch      study  \\\n",
      "ID                                                                        \n",
      "MSBB.TMT12_NL_SJ   86.0    0  11.500000       Control      2       MSBB   \n",
      "MSBB.TMT2_AD_SJ    81.0    0   3.166667            AD      2       MSBB   \n",
      "MSBB.TMT17_AD_SJ   85.0    1   5.166667            AD      2       MSBB   \n",
      "MSBB.TMT17_AD_SJ   90.0    0   5.083333            AD      2       MSBB   \n",
      "MSBB.TMT1_AD_SJ    77.0    0   6.333333            AD      2       MSBB   \n",
      "...                 ...  ...        ...           ...    ...        ...   \n",
      "EmoryBA24.b3.130C  58.0    1  12.500000            AD      7  EmoryBA24   \n",
      "EmoryBA24.b5.130C  65.0    1  11.500000            AD      7  EmoryBA24   \n",
      "EmoryBA24.b3.130N  67.0    1  10.000000            AD      7  EmoryBA24   \n",
      "EmoryBA24.b1.127N  55.0    1   4.000000            AD      7  EmoryBA24   \n",
      "EmoryBA24.b2.127N  55.0    0   4.500000            AD      7  EmoryBA24   \n",
      "\n",
      "                   batch_org  BA  \n",
      "ID                                \n",
      "MSBB.TMT12_NL_SJ        12.0 NaN  \n",
      "MSBB.TMT2_AD_SJ          2.0 NaN  \n",
      "MSBB.TMT17_AD_SJ        17.0 NaN  \n",
      "MSBB.TMT17_AD_SJ        17.0 NaN  \n",
      "MSBB.TMT1_AD_SJ          1.0 NaN  \n",
      "...                      ...  ..  \n",
      "EmoryBA24.b3.130C        3.0 NaN  \n",
      "EmoryBA24.b5.130C        5.0 NaN  \n",
      "EmoryBA24.b3.130N        3.0 NaN  \n",
      "EmoryBA24.b1.127N        1.0 NaN  \n",
      "EmoryBA24.b2.127N        2.0 NaN  \n",
      "\n",
      "[783 rows x 8 columns]\n"
     ]
    }
   ],
   "source": [
    "adata.obs.index = adata.obs.index.str.replace(r'-\\d+', '', regex=True)\n",
    "print(adata.obs)"
   ]
  },
  {
   "cell_type": "code",
   "execution_count": 5,
   "metadata": {},
   "outputs": [
    {
     "name": "stdout",
     "output_type": "stream",
     "text": [
      "                     Group\n",
      "ID                        \n",
      "MSBB.TMT1_NL_SJ    Control\n",
      "MSBB.TMT1_NL_SJ         AD\n",
      "MSBB.TMT1_NL_SJ         AD\n",
      "MSBB.TMT2_NL_SJ         AD\n",
      "MSBB.TMT2_NL_SJ         AD\n",
      "...                    ...\n",
      "EmoryBA24.b4.130N       AD\n",
      "EmoryBA24.b4.128N       AD\n",
      "EmoryBA24.b4.127C       AD\n",
      "EmoryBA24.b4.128C       AD\n",
      "EmoryBA24.b4.130C       AD\n",
      "\n",
      "[783 rows x 1 columns]\n"
     ]
    }
   ],
   "source": [
    "# Load AnnData object\n",
    "proteomics_adata = sc.read('adata_batch_corrected_trial2/TMT_brain_combined_corrected.h5ad')\n",
    "# Drop the 'batch' column from the obs attribute\n",
    "proteomics_adata.obs = proteomics_adata.obs.drop(columns=['batch'])\n",
    "# Remove numbers coming after the '-' sign in the row names\n",
    "proteomics_adata.obs.index = proteomics_adata.obs.index.str.replace(r'-\\d+', '', regex=True)\n",
    "\n",
    "# Convert the values of the 'group' column in the obs attribute to strings\n",
    "proteomics_adata.obs['Group'] = proteomics_adata.obs['Group'].astype(str)\n",
    "# Print the obs attribute\n",
    "print(proteomics_adata.obs)"
   ]
  },
  {
   "cell_type": "code",
   "execution_count": 6,
   "metadata": {},
   "outputs": [
    {
     "name": "stderr",
     "output_type": "stream",
     "text": [
      "/Users/emirhanyagmur/repo_ey3838/.conda/lib/python3.10/site-packages/tqdm/auto.py:21: TqdmWarning: IProgress not found. Please update jupyter and ipywidgets. See https://ipywidgets.readthedocs.io/en/stable/user_install.html\n",
      "  from .autonotebook import tqdm as notebook_tqdm\n"
     ]
    },
    {
     "name": "stdout",
     "output_type": "stream",
     "text": [
      "MuData object with n_obs × n_vars = 783 × 4291\n",
      "  2 modalities\n",
      "    clinical:\t783 x 8\n",
      "      obs:\t'age', 'sex', 'pmi', 'disease_group', 'batch', 'study', 'batch_org', 'BA'\n",
      "    proteomics:\t783 x 4283\n",
      "      obs:\t'Group'\n"
     ]
    },
    {
     "name": "stderr",
     "output_type": "stream",
     "text": [
      "/Users/emirhanyagmur/repo_ey3838/.conda/lib/python3.10/site-packages/mudata/_core/mudata.py:407: UserWarning: Duplicated obs_names should not be present in different modalities due to the ambiguity that leads to.\n",
      "  warnings.warn(\n",
      "/Users/emirhanyagmur/repo_ey3838/.conda/lib/python3.10/site-packages/mudata/_core/mudata.py:1531: FutureWarning: From 0.4 .update() will not pull obs/var columns from individual modalities by default anymore. Set mudata.set_options(pull_on_update=False) to adopt the new behaviour, which will become the default. Use new pull_obs/pull_var and push_obs/push_var methods for more flexibility.\n",
      "  self._update_attr(\"var\", axis=0, join_common=join_common)\n",
      "/Users/emirhanyagmur/repo_ey3838/.conda/lib/python3.10/site-packages/mudata/_core/mudata.py:1429: FutureWarning: From 0.4 .update() will not pull obs/var columns from individual modalities by default anymore. Set mudata.set_options(pull_on_update=False) to adopt the new behaviour, which will become the default. Use new pull_obs/pull_var and push_obs/push_var methods for more flexibility.\n",
      "  self._update_attr(\"obs\", axis=1, join_common=join_common)\n",
      "/Users/emirhanyagmur/repo_ey3838/.conda/lib/python3.10/site-packages/mudata/_core/mudata.py:407: UserWarning: Duplicated obs_names should not be present in different modalities due to the ambiguity that leads to.\n",
      "  warnings.warn(\n",
      "/Users/emirhanyagmur/repo_ey3838/.conda/lib/python3.10/site-packages/mudata/_core/mudata.py:915: UserWarning: obs_names are not unique. To make them unique, call `.obs_names_make_unique`.\n",
      "  warnings.warn(\n"
     ]
    }
   ],
   "source": [
    "import muon as mu\n",
    "from muon import MuData\n",
    "import numpy as np\n",
    "\n",
    "# Create a MuData object from the two AnnData objects\n",
    "mdata = MuData({'clinical': adata, 'proteomics': proteomics_adata})\n",
    "\n",
    "# Print the MuData object to verify\n",
    "print(mdata)"
   ]
  },
  {
   "cell_type": "code",
   "execution_count": 7,
   "metadata": {},
   "outputs": [
    {
     "name": "stdout",
     "output_type": "stream",
     "text": [
      "Unaligned index names: Index([], dtype='object', name='ID')\n"
     ]
    }
   ],
   "source": [
    "# Find the indices that are not aligned between adata and proteomics_adata\n",
    "unaligned_indices = adata.obs.index.symmetric_difference(proteomics_adata.obs.index)\n",
    "print(\"Unaligned index names:\", unaligned_indices)\n",
    "\n"
   ]
  },
  {
   "cell_type": "code",
   "execution_count": 12,
   "metadata": {},
   "outputs": [
    {
     "name": "stdout",
     "output_type": "stream",
     "text": [
      "Non-numeric data in adata.X has been converted to NaN.\n"
     ]
    },
    {
     "name": "stderr",
     "output_type": "stream",
     "text": [
      "/Users/emirhanyagmur/repo_ey3838/.conda/lib/python3.10/site-packages/mudata/_core/mudata.py:1531: FutureWarning: From 0.4 .update() will not pull obs/var columns from individual modalities by default anymore. Set mudata.set_options(pull_on_update=False) to adopt the new behaviour, which will become the default. Use new pull_obs/pull_var and push_obs/push_var methods for more flexibility.\n",
      "  self._update_attr(\"var\", axis=0, join_common=join_common)\n",
      "/Users/emirhanyagmur/repo_ey3838/.conda/lib/python3.10/site-packages/mudata/_core/mudata.py:1429: FutureWarning: From 0.4 .update() will not pull obs/var columns from individual modalities by default anymore. Set mudata.set_options(pull_on_update=False) to adopt the new behaviour, which will become the default. Use new pull_obs/pull_var and push_obs/push_var methods for more flexibility.\n",
      "  self._update_attr(\"obs\", axis=1, join_common=join_common)\n",
      "/Users/emirhanyagmur/repo_ey3838/.conda/lib/python3.10/site-packages/mudata/_core/mudata.py:407: UserWarning: Duplicated obs_names should not be present in different modalities due to the ambiguity that leads to.\n",
      "  warnings.warn(\n",
      "/Users/emirhanyagmur/repo_ey3838/.conda/lib/python3.10/site-packages/mudata/_core/mudata.py:915: UserWarning: obs_names are not unique. To make them unique, call `.obs_names_make_unique`.\n",
      "  warnings.warn(\n"
     ]
    }
   ],
   "source": [
    "# Write the MuData object to file\n",
    "mdata.write('mudata_prepared_trial3/TMT_brain_mudata.h5mu')"
   ]
  }
 ],
 "metadata": {
  "kernelspec": {
   "display_name": "Python 3",
   "language": "python",
   "name": "python3"
  },
  "language_info": {
   "codemirror_mode": {
    "name": "ipython",
    "version": 3
   },
   "file_extension": ".py",
   "mimetype": "text/x-python",
   "name": "python",
   "nbconvert_exporter": "python",
   "pygments_lexer": "ipython3",
   "version": "3.10.16"
  }
 },
 "nbformat": 4,
 "nbformat_minor": 2
}
